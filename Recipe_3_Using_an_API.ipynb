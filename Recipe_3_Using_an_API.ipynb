{
  "nbformat": 4,
  "nbformat_minor": 0,
  "metadata": {
    "colab": {
      "provenance": []
    },
    "kernelspec": {
      "name": "python3",
      "display_name": "Python 3"
    },
    "language_info": {
      "name": "python"
    }
  },
  "cells": [
    {
      "cell_type": "markdown",
      "source": [
        "# Recipe 3: Using the Alpha Vantage API to analyze stock data\n",
        "\n",
        "I found an cool API called Alpha Vantage which gives access to time series data for the stock market market. The link to the documentation is pasted below:\n",
        "\n",
        "https://www.alphavantage.co/documentation/\n",
        "\n",
        "I showed how to make the API request and access the latest closing price of a selected stock."
      ],
      "metadata": {
        "id": "keEywTeooWB1"
      }
    },
    {
      "cell_type": "markdown",
      "source": [
        "Step 1: Importing necessary packages"
      ],
      "metadata": {
        "id": "YrEOgsY8jebp"
      }
    },
    {
      "cell_type": "code",
      "source": [
        "import requests\n",
        "import pandas as pd\n",
        "import matplotlib.pyplot as plt"
      ],
      "metadata": {
        "id": "thZ1l2Eh-frZ"
      },
      "execution_count": null,
      "outputs": []
    },
    {
      "cell_type": "markdown",
      "source": [
        "Step 2: Make the API request"
      ],
      "metadata": {
        "id": "owSniZkb_lin"
      }
    },
    {
      "cell_type": "code",
      "source": [
        "# Specify my API key and the stock symbol\n",
        "api_key = '67CQ5TEXEIQ6R5F4'\n",
        "symbol = 'GOOG'\n",
        "\n",
        "url = f'https://www.alphavantage.co/query?function=TIME_SERIES_DAILY&symbol={symbol}&apikey={api_key}' # Using the form given in API documentation\n",
        "response = requests.get(url) # Make the request\n",
        "data = response.json()"
      ],
    }
    {
      "cell_type": "markdown",
      "source": [
        "Step 3: Extract the most recent closing price of Google stock"
      ],
      "metadata": {
        "id": "16lZNE_DAcMQ"
      }
    },
    {
      "cell_type": "code",
      "source": [
        "latest_date = list(data['Time Series (Daily)'].keys())[0] # Find the latest date from the first key in the time series daily dictionary\n",
        "latest_close = data['Time Series (Daily)'][latest_date]['4. close'] # find the latest closing amount on the latest date\n",
        "print(\"The closing price of\", symbol, \"on\", latest_date, \"was\", latest_close, \"USD\")"
      ],
      "metadata": {
        "colab": {
          "base_uri": "https://localhost:8080/"
        },
        "id": "sZmSp8VVAjGY",
        "outputId": "aedd330f-0071-4af2-e699-1eefc884afde"
      },
      "execution_count": 20,
      "outputs": [
        {
          "output_type": "stream",
          "name": "stdout",
          "text": [
            "The closing price of GOOG on 2025-05-12 was 159.5800 USD\n"
          ]
        }
      ]
    }
  ]
}
