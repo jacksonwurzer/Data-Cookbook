{
  "nbformat": 4,
  "nbformat_minor": 0,
  "metadata": {
    "colab": {
      "provenance": []
    },
    "kernelspec": {
      "name": "python3",
      "display_name": "Python 3"
    },
    "language_info": {
      "name": "python"
    }
  },
  "cells": [
    {
      "cell_type": "markdown",
      "source": [
        "# Recipe 1: Recreating my \"Spotify Wrapped\" by grouping and sorting the data; visualizing the results using matplotlib and seaborn\n",
        "\n",
        "Jackson Wurzer\n",
        "\n",
        "\n",
        "In this recipe I will be analyzing my data from Spotify and recreating my \"Spotify Wrapped\" by locating the 5 artists I have listened to the most. Then I will make a visualization for the results.  "
      ],
      "metadata": {
        "id": "keEywTeooWB1"
      }
    },
    {
      "cell_type": "markdown",
      "source": [
        "Step 1: Importing necessary packages"
      ],
      "metadata": {
        "id": "YrEOgsY8jebp"
      }
    },
    {
      "cell_type": "code",
      "source": [
        "import json\n",
        "import pandas as pd\n",
        "import matplotlib.pyplot as plt\n",
        "import seaborn as sns"
      ],
      "metadata": {
        "id": "n870rxYYjyNQ"
      },
      "execution_count": 36,
      "outputs": []
    },
    {
      "cell_type": "markdown",
      "source": [
        "Step 2: Loading in the data and converting into a pandas data frame"
      ],
      "metadata": {
        "id": "NccHPhYIj0Uf"
      }
    },
    {
      "cell_type": "code",
      "source": [
        "with open('streamingHistory.json', 'r') as streamingData:\n",
        "  data = json.load(streamingData) # loading data with json\n",
        "\n",
        "df = pd.DataFrame(data) # converting to pandas data frame"
      ],
      "metadata": {
        "id": "-Mk1Z6Gqj9dQ"
      },
      "execution_count": 18,
      "outputs": []
    },
    {
      "cell_type": "markdown",
      "source": [
        "We'll view the first few rows of this data frame to make sure it worked:"
      ],
      "metadata": {
        "id": "Y3tSNdMEk4ER"
      }
    },
    {
      "cell_type": "code",
      "source": [
        "df.head()"
      ],
      "metadata": {
        "colab": {
          "base_uri": "https://localhost:8080/",
          "height": 206
        },
        "id": "LPuV5TKjk7T2",
        "outputId": "35d9f0b1-f6b2-4ce3-a258-f9f93fa0bbf0"
      },
      "execution_count": 19,
      "outputs": [
        {
          "output_type": "execute_result",
          "data": {
            "text/plain": [
              "            endTime artistName                          trackName  msPlayed\n",
              "0  2024-03-11 13:00  Lil Tecca                         Molly Girl    112149\n",
              "1  2024-03-11 14:34  21 Savage                 No Opp Left Behind       590\n",
              "2  2024-03-11 14:34  Baby Keem  family ties (with Kendrick Lamar)       570\n",
              "3  2024-03-11 14:34  Pop Smoke                         Invincible      1990\n",
              "4  2024-03-11 14:34  Lil Tecca                         Molly Girl      1130"
            ],
            "text/html": [
              "\n",
              "  <div id=\"df-639a765a-a152-449f-93d8-c5e4cc18c28c\" class=\"colab-df-container\">\n",
              "    <div>\n",
              "<style scoped>\n",
              "    .dataframe tbody tr th:only-of-type {\n",
              "        vertical-align: middle;\n",
              "    }\n",
              "\n",
              "    .dataframe tbody tr th {\n",
              "        vertical-align: top;\n",
              "    }\n",
              "\n",
              "    .dataframe thead th {\n",
              "        text-align: right;\n",
              "    }\n",
              "</style>\n",
              "<table border=\"1\" class=\"dataframe\">\n",
              "  <thead>\n",
              "    <tr style=\"text-align: right;\">\n",
              "      <th></th>\n",
              "      <th>endTime</th>\n",
              "      <th>artistName</th>\n",
              "      <th>trackName</th>\n",
              "      <th>msPlayed</th>\n",
              "    </tr>\n",
              "  </thead>\n",
              "  <tbody>\n",
              "    <tr>\n",
              "      <th>0</th>\n",
              "      <td>2024-03-11 13:00</td>\n",
              "      <td>Lil Tecca</td>\n",
              "      <td>Molly Girl</td>\n",
              "      <td>112149</td>\n",
              "    </tr>\n",
              "    <tr>\n",
              "      <th>1</th>\n",
              "      <td>2024-03-11 14:34</td>\n",
              "      <td>21 Savage</td>\n",
              "      <td>No Opp Left Behind</td>\n",
              "      <td>590</td>\n",
              "    </tr>\n",
              "    <tr>\n",
              "      <th>2</th>\n",
              "      <td>2024-03-11 14:34</td>\n",
              "      <td>Baby Keem</td>\n",
              "      <td>family ties (with Kendrick Lamar)</td>\n",
              "      <td>570</td>\n",
              "    </tr>\n",
              "    <tr>\n",
              "      <th>3</th>\n",
              "      <td>2024-03-11 14:34</td>\n",
              "      <td>Pop Smoke</td>\n",
              "      <td>Invincible</td>\n",
              "      <td>1990</td>\n",
              "    </tr>\n",
              "    <tr>\n",
              "      <th>4</th>\n",
              "      <td>2024-03-11 14:34</td>\n",
              "      <td>Lil Tecca</td>\n",
              "      <td>Molly Girl</td>\n",
              "      <td>1130</td>\n",
              "    </tr>\n",
              "  </tbody>\n",
              "</table>\n",
              "</div>\n",
              "    <div class=\"colab-df-buttons\">\n",
              "\n",
              "  <div class=\"colab-df-container\">\n",
              "    <button class=\"colab-df-convert\" onclick=\"convertToInteractive('df-639a765a-a152-449f-93d8-c5e4cc18c28c')\"\n",
              "            title=\"Convert this dataframe to an interactive table.\"\n",
              "            style=\"display:none;\">\n",
              "\n",
              "  <svg xmlns=\"http://www.w3.org/2000/svg\" height=\"24px\" viewBox=\"0 -960 960 960\">\n",
              "    <path d=\"M120-120v-720h720v720H120Zm60-500h600v-160H180v160Zm220 220h160v-160H400v160Zm0 220h160v-160H400v160ZM180-400h160v-160H180v160Zm440 0h160v-160H620v160ZM180-180h160v-160H180v160Zm440 0h160v-160H620v160Z\"/>\n",
              "  </svg>\n",
              "    </button>\n",
              "\n",
              "  <style>\n",
              "    .colab-df-container {\n",
              "      display:flex;\n",
              "      gap: 12px;\n",
              "    }\n",
              "\n",
              "    .colab-df-convert {\n",
              "      background-color: #E8F0FE;\n",
              "      border: none;\n",
              "      border-radius: 50%;\n",
              "      cursor: pointer;\n",
              "      display: none;\n",
              "      fill: #1967D2;\n",
              "      height: 32px;\n",
              "      padding: 0 0 0 0;\n",
              "      width: 32px;\n",
              "    }\n",
              "\n",
              "    .colab-df-convert:hover {\n",
              "      background-color: #E2EBFA;\n",
              "      box-shadow: 0px 1px 2px rgba(60, 64, 67, 0.3), 0px 1px 3px 1px rgba(60, 64, 67, 0.15);\n",
              "      fill: #174EA6;\n",
              "    }\n",
              "\n",
              "    .colab-df-buttons div {\n",
              "      margin-bottom: 4px;\n",
              "    }\n",
              "\n",
              "    [theme=dark] .colab-df-convert {\n",
              "      background-color: #3B4455;\n",
              "      fill: #D2E3FC;\n",
              "    }\n",
              "\n",
              "    [theme=dark] .colab-df-convert:hover {\n",
              "      background-color: #434B5C;\n",
              "      box-shadow: 0px 1px 3px 1px rgba(0, 0, 0, 0.15);\n",
              "      filter: drop-shadow(0px 1px 2px rgba(0, 0, 0, 0.3));\n",
              "      fill: #FFFFFF;\n",
              "    }\n",
              "  </style>\n",
              "\n",
              "    <script>\n",
              "      const buttonEl =\n",
              "        document.querySelector('#df-639a765a-a152-449f-93d8-c5e4cc18c28c button.colab-df-convert');\n",
              "      buttonEl.style.display =\n",
              "        google.colab.kernel.accessAllowed ? 'block' : 'none';\n",
              "\n",
              "      async function convertToInteractive(key) {\n",
              "        const element = document.querySelector('#df-639a765a-a152-449f-93d8-c5e4cc18c28c');\n",
              "        const dataTable =\n",
              "          await google.colab.kernel.invokeFunction('convertToInteractive',\n",
              "                                                    [key], {});\n",
              "        if (!dataTable) return;\n",
              "\n",
              "        const docLinkHtml = 'Like what you see? Visit the ' +\n",
              "          '<a target=\"_blank\" href=https://colab.research.google.com/notebooks/data_table.ipynb>data table notebook</a>'\n",
              "          + ' to learn more about interactive tables.';\n",
              "        element.innerHTML = '';\n",
              "        dataTable['output_type'] = 'display_data';\n",
              "        await google.colab.output.renderOutput(dataTable, element);\n",
              "        const docLink = document.createElement('div');\n",
              "        docLink.innerHTML = docLinkHtml;\n",
              "        element.appendChild(docLink);\n",
              "      }\n",
              "    </script>\n",
              "  </div>\n",
              "\n",
              "\n",
              "    <div id=\"df-6305394f-53af-4dcd-aaf9-c3588ef30190\">\n",
              "      <button class=\"colab-df-quickchart\" onclick=\"quickchart('df-6305394f-53af-4dcd-aaf9-c3588ef30190')\"\n",
              "                title=\"Suggest charts\"\n",
              "                style=\"display:none;\">\n",
              "\n",
              "<svg xmlns=\"http://www.w3.org/2000/svg\" height=\"24px\"viewBox=\"0 0 24 24\"\n",
              "     width=\"24px\">\n",
              "    <g>\n",
              "        <path d=\"M19 3H5c-1.1 0-2 .9-2 2v14c0 1.1.9 2 2 2h14c1.1 0 2-.9 2-2V5c0-1.1-.9-2-2-2zM9 17H7v-7h2v7zm4 0h-2V7h2v10zm4 0h-2v-4h2v4z\"/>\n",
              "    </g>\n",
              "</svg>\n",
              "      </button>\n",
              "\n",
              "<style>\n",
              "  .colab-df-quickchart {\n",
              "      --bg-color: #E8F0FE;\n",
              "      --fill-color: #1967D2;\n",
              "      --hover-bg-color: #E2EBFA;\n",
              "      --hover-fill-color: #174EA6;\n",
              "      --disabled-fill-color: #AAA;\n",
              "      --disabled-bg-color: #DDD;\n",
              "  }\n",
              "\n",
              "  [theme=dark] .colab-df-quickchart {\n",
              "      --bg-color: #3B4455;\n",
              "      --fill-color: #D2E3FC;\n",
              "      --hover-bg-color: #434B5C;\n",
              "      --hover-fill-color: #FFFFFF;\n",
              "      --disabled-bg-color: #3B4455;\n",
              "      --disabled-fill-color: #666;\n",
              "  }\n",
              "\n",
              "  .colab-df-quickchart {\n",
              "    background-color: var(--bg-color);\n",
              "    border: none;\n",
              "    border-radius: 50%;\n",
              "    cursor: pointer;\n",
              "    display: none;\n",
              "    fill: var(--fill-color);\n",
              "    height: 32px;\n",
              "    padding: 0;\n",
              "    width: 32px;\n",
              "  }\n",
              "\n",
              "  .colab-df-quickchart:hover {\n",
              "    background-color: var(--hover-bg-color);\n",
              "    box-shadow: 0 1px 2px rgba(60, 64, 67, 0.3), 0 1px 3px 1px rgba(60, 64, 67, 0.15);\n",
              "    fill: var(--button-hover-fill-color);\n",
              "  }\n",
              "\n",
              "  .colab-df-quickchart-complete:disabled,\n",
              "  .colab-df-quickchart-complete:disabled:hover {\n",
              "    background-color: var(--disabled-bg-color);\n",
              "    fill: var(--disabled-fill-color);\n",
              "    box-shadow: none;\n",
              "  }\n",
              "\n",
              "  .colab-df-spinner {\n",
              "    border: 2px solid var(--fill-color);\n",
              "    border-color: transparent;\n",
              "    border-bottom-color: var(--fill-color);\n",
              "    animation:\n",
              "      spin 1s steps(1) infinite;\n",
              "  }\n",
              "\n",
              "  @keyframes spin {\n",
              "    0% {\n",
              "      border-color: transparent;\n",
              "      border-bottom-color: var(--fill-color);\n",
              "      border-left-color: var(--fill-color);\n",
              "    }\n",
              "    20% {\n",
              "      border-color: transparent;\n",
              "      border-left-color: var(--fill-color);\n",
              "      border-top-color: var(--fill-color);\n",
              "    }\n",
              "    30% {\n",
              "      border-color: transparent;\n",
              "      border-left-color: var(--fill-color);\n",
              "      border-top-color: var(--fill-color);\n",
              "      border-right-color: var(--fill-color);\n",
              "    }\n",
              "    40% {\n",
              "      border-color: transparent;\n",
              "      border-right-color: var(--fill-color);\n",
              "      border-top-color: var(--fill-color);\n",
              "    }\n",
              "    60% {\n",
              "      border-color: transparent;\n",
              "      border-right-color: var(--fill-color);\n",
              "    }\n",
              "    80% {\n",
              "      border-color: transparent;\n",
              "      border-right-color: var(--fill-color);\n",
              "      border-bottom-color: var(--fill-color);\n",
              "    }\n",
              "    90% {\n",
              "      border-color: transparent;\n",
              "      border-bottom-color: var(--fill-color);\n",
              "    }\n",
              "  }\n",
              "</style>\n",
              "\n",
              "      <script>\n",
              "        async function quickchart(key) {\n",
              "          const quickchartButtonEl =\n",
              "            document.querySelector('#' + key + ' button');\n",
              "          quickchartButtonEl.disabled = true;  // To prevent multiple clicks.\n",
              "          quickchartButtonEl.classList.add('colab-df-spinner');\n",
              "          try {\n",
              "            const charts = await google.colab.kernel.invokeFunction(\n",
              "                'suggestCharts', [key], {});\n",
              "          } catch (error) {\n",
              "            console.error('Error during call to suggestCharts:', error);\n",
              "          }\n",
              "          quickchartButtonEl.classList.remove('colab-df-spinner');\n",
              "          quickchartButtonEl.classList.add('colab-df-quickchart-complete');\n",
              "        }\n",
              "        (() => {\n",
              "          let quickchartButtonEl =\n",
              "            document.querySelector('#df-6305394f-53af-4dcd-aaf9-c3588ef30190 button');\n",
              "          quickchartButtonEl.style.display =\n",
              "            google.colab.kernel.accessAllowed ? 'block' : 'none';\n",
              "        })();\n",
              "      </script>\n",
              "    </div>\n",
              "\n",
              "    </div>\n",
              "  </div>\n"
            ],
            "application/vnd.google.colaboratory.intrinsic+json": {
              "type": "dataframe",
              "variable_name": "df",
              "summary": "{\n  \"name\": \"df\",\n  \"rows\": 2729,\n  \"fields\": [\n    {\n      \"column\": \"endTime\",\n      \"properties\": {\n        \"dtype\": \"object\",\n        \"num_unique_values\": 1385,\n        \"samples\": [\n          \"2024-11-29 08:40\",\n          \"2024-05-07 02:34\",\n          \"2024-04-28 21:59\"\n        ],\n        \"semantic_type\": \"\",\n        \"description\": \"\"\n      }\n    },\n    {\n      \"column\": \"artistName\",\n      \"properties\": {\n        \"dtype\": \"category\",\n        \"num_unique_values\": 190,\n        \"samples\": [\n          \"James Blake\",\n          \"Adolphus Hailstork\",\n          \"Central Cee\"\n        ],\n        \"semantic_type\": \"\",\n        \"description\": \"\"\n      }\n    },\n    {\n      \"column\": \"trackName\",\n      \"properties\": {\n        \"dtype\": \"category\",\n        \"num_unique_values\": 603,\n        \"samples\": [\n          \"Flocky Flocky (feat. Travis Scott)\",\n          \"wacced out murals\",\n          \"The Biggest Pt. 2\"\n        ],\n        \"semantic_type\": \"\",\n        \"description\": \"\"\n      }\n    },\n    {\n      \"column\": \"msPlayed\",\n      \"properties\": {\n        \"dtype\": \"number\",\n        \"std\": 93228,\n        \"min\": 0,\n        \"max\": 460658,\n        \"num_unique_values\": 1580,\n        \"samples\": [\n          145167,\n          36887,\n          6826\n        ],\n        \"semantic_type\": \"\",\n        \"description\": \"\"\n      }\n    }\n  ]\n}"
            }
          },
          "metadata": {},
          "execution_count": 19
        }
      ]
    },
    {
      "cell_type": "markdown",
      "source": [
        "Step 3: Group by artist and sum the time  played and sort the values in descending order."
      ],
      "metadata": {
        "id": "JRhROoEXlAo9"
      }
    },
    {
      "cell_type": "code",
      "source": [
        "artistTotal = df.groupby('artistName')['msPlayed'].sum().sort_values(ascending=False) # grouping by artist and sorting by ms\n",
        "artistTotal.head()"
      ],
      "metadata": {
        "colab": {
          "base_uri": "https://localhost:8080/",
          "height": 272
        },
        "id": "CRI8cW-BlSC-",
        "outputId": "4cf25f6a-4d54-4c1d-e98b-a0f291856ecd"
      },
      "execution_count": 20,
      "outputs": [
        {
          "output_type": "execute_result",
          "data": {
            "text/plain": [
              "artistName\n",
              "Drake           21831932\n",
              "21 Savage       11891876\n",
              "Future          11609517\n",
              "Travis Scott    11068707\n",
              "Lil Uzi Vert     9930838\n",
              "Name: msPlayed, dtype: int64"
            ],
            "text/html": [
              "<div>\n",
              "<style scoped>\n",
              "    .dataframe tbody tr th:only-of-type {\n",
              "        vertical-align: middle;\n",
              "    }\n",
              "\n",
              "    .dataframe tbody tr th {\n",
              "        vertical-align: top;\n",
              "    }\n",
              "\n",
              "    .dataframe thead th {\n",
              "        text-align: right;\n",
              "    }\n",
              "</style>\n",
              "<table border=\"1\" class=\"dataframe\">\n",
              "  <thead>\n",
              "    <tr style=\"text-align: right;\">\n",
              "      <th></th>\n",
              "      <th>msPlayed</th>\n",
              "    </tr>\n",
              "    <tr>\n",
              "      <th>artistName</th>\n",
              "      <th></th>\n",
              "    </tr>\n",
              "  </thead>\n",
              "  <tbody>\n",
              "    <tr>\n",
              "      <th>Drake</th>\n",
              "      <td>21831932</td>\n",
              "    </tr>\n",
              "    <tr>\n",
              "      <th>21 Savage</th>\n",
              "      <td>11891876</td>\n",
              "    </tr>\n",
              "    <tr>\n",
              "      <th>Future</th>\n",
              "      <td>11609517</td>\n",
              "    </tr>\n",
              "    <tr>\n",
              "      <th>Travis Scott</th>\n",
              "      <td>11068707</td>\n",
              "    </tr>\n",
              "    <tr>\n",
              "      <th>Lil Uzi Vert</th>\n",
              "      <td>9930838</td>\n",
              "    </tr>\n",
              "  </tbody>\n",
              "</table>\n",
              "</div><br><label><b>dtype:</b> int64</label>"
            ]
          },
          "metadata": {},
          "execution_count": 20
        }
      ]
    },
    {
      "cell_type": "markdown",
      "source": [
        "We can see that the time played is in milliseconds, so let's convert to minutes."
      ],
      "metadata": {
        "id": "sKMpD2XWp0YT"
      }
    },
    {
      "cell_type": "code",
      "source": [
        "artistMinutes = artistTotal / 60000 # converting to minutes by dividing by 60,000\n",
        "artistMinutes = artistMinutes.astype(int) # converting to an integer\n",
        "artistMinutes.head()"
      ],
      "metadata": {
        "colab": {
          "base_uri": "https://localhost:8080/",
          "height": 272
        },
        "id": "rTHy-TI8p95J",
        "outputId": "31ee22c2-997b-4835-e022-9c794f4cf101"
      },
      "execution_count": 32,
      "outputs": [
        {
          "output_type": "execute_result",
          "data": {
            "text/plain": [
              "artistName\n",
              "Drake           363\n",
              "21 Savage       198\n",
              "Future          193\n",
              "Travis Scott    184\n",
              "Lil Uzi Vert    165\n",
              "Name: msPlayed, dtype: int64"
            ],
            "text/html": [
              "<div>\n",
              "<style scoped>\n",
              "    .dataframe tbody tr th:only-of-type {\n",
              "        vertical-align: middle;\n",
              "    }\n",
              "\n",
              "    .dataframe tbody tr th {\n",
              "        vertical-align: top;\n",
              "    }\n",
              "\n",
              "    .dataframe thead th {\n",
              "        text-align: right;\n",
              "    }\n",
              "</style>\n",
              "<table border=\"1\" class=\"dataframe\">\n",
              "  <thead>\n",
              "    <tr style=\"text-align: right;\">\n",
              "      <th></th>\n",
              "      <th>msPlayed</th>\n",
              "    </tr>\n",
              "    <tr>\n",
              "      <th>artistName</th>\n",
              "      <th></th>\n",
              "    </tr>\n",
              "  </thead>\n",
              "  <tbody>\n",
              "    <tr>\n",
              "      <th>Drake</th>\n",
              "      <td>363</td>\n",
              "    </tr>\n",
              "    <tr>\n",
              "      <th>21 Savage</th>\n",
              "      <td>198</td>\n",
              "    </tr>\n",
              "    <tr>\n",
              "      <th>Future</th>\n",
              "      <td>193</td>\n",
              "    </tr>\n",
              "    <tr>\n",
              "      <th>Travis Scott</th>\n",
              "      <td>184</td>\n",
              "    </tr>\n",
              "    <tr>\n",
              "      <th>Lil Uzi Vert</th>\n",
              "      <td>165</td>\n",
              "    </tr>\n",
              "  </tbody>\n",
              "</table>\n",
              "</div><br><label><b>dtype:</b> int64</label>"
            ]
          },
          "metadata": {},
          "execution_count": 32
        }
      ]
    },
    {
      "cell_type": "markdown",
      "source": [
        "This looks better now."
      ],
      "metadata": {
        "id": "QnUUSrZnqGVg"
      }
    },
    {
      "cell_type": "markdown",
      "source": [
        "Step 4: We'll pick the top 5 artists and their corresponding minutes played"
      ],
      "metadata": {
        "id": "3mN9Ls3VlxJ5"
      }
    },
    {
      "cell_type": "code",
      "source": [
        "topArtists = artistTotal.head(5)\n",
        "artistMinutes = artistMinutes.head(5)"
      ],
      "metadata": {
        "id": "IMD7YSAql1r_"
      },
      "execution_count": 33,
      "outputs": []
    },
    {
      "cell_type": "markdown",
      "source": [
        "Step 5: Lastly we'll plot our results using a bar chart to visualize the results nicely."
      ],
      "metadata": {
        "id": "zXBZ9KRWqTw4"
      }
    },
    {
      "cell_type": "code",
      "source": [
        "plt.figure(figsize=(10, 6))\n",
        "colors = ['skyblue', 'pink', 'lightgreen', 'grey', 'maroon']\n",
        "ranked_labels = [f\"{i+1}: {name}\" for i, name in enumerate(topArtists.index)] # creating ranks from 1-5 for each artist in topArtists\n",
        "plt.bar(ranked_labels, topArtists.values, color=colors)\n",
        "plt.xlabel('Artist')\n",
        "plt.ylabel('Minutes Played')\n",
        "plt.title('My Top 5 Spotify Artists by Minutes Played')\n",
        "plt.show()"
      ],
      "metadata": {
        "colab": {
          "base_uri": "https://localhost:8080/",
          "height": 564
        },
        "id": "GNTfN6o8qdUk",
        "outputId": "28f2d688-d48a-40a5-da4e-4f44b7f3077e"
      },
      "execution_count": 59,
      "outputs": [
        {
          "output_type": "display_data",
          "data": {
            "text/plain": [
              "<Figure size 1000x600 with 1 Axes>"
            ],
            "image/png": "[encoded data removed]"
          },
          "metadata": {}
        }
      ]
    },
    {
      "cell_type": "markdown",
      "source": [
        "Let's now try a different way of making a bar chart to display the results. Let's use seaborn now:"
      ],
      "metadata": {
        "id": "yqAceuYPubkH"
      }
    },
    {
      "cell_type": "code",
      "source": [
        "plot_df = pd.DataFrame({'Artist': [f\"{i+1}. {name}\" for i, name in enumerate(topArtists.index)],\n",
        "    'minutesPlayed': topArtists.values}) # creating data frame for seaborn again creating ranking labels for each artist 1-5\n",
        "\n",
        "plt.figure(figsize=(10, 6))\n",
        "sns.barplot(data=plot_df, y='Artist', x='minutesPlayed', palette='pastel')\n",
        "plt.xlabel('Minutes Played')\n",
        "plt.ylabel('Artist')\n",
        "plt.title('Top 5 Spotify Artists by Minutes Played')\n",
        "plt.show()"
      ],
      "metadata": {
        "colab": {
          "base_uri": "https://localhost:8080/",
          "height": 656
        },
        "id": "iBvfu6k_sjm2",
        "outputId": "c3a42505-77ec-4a6d-99b5-234f2f8e865b"
      },
      "execution_count": 67,
      "outputs": [
        {
          "output_type": "stream",
          "name": "stderr",
          "text": [
            "<ipython-input-67-4df902c58821>:5: FutureWarning: \n",
            "\n",
            "Passing `palette` without assigning `hue` is deprecated and will be removed in v0.14.0. Assign the `y` variable to `hue` and set `legend=False` for the same effect.\n",
            "\n",
            "  sns.barplot(data=plot_df, y='Artist', x='minutesPlayed', palette='pastel')\n"
          ]
        },
        {
          "output_type": "display_data",
          "data": {
            "text/plain": [
              "<Figure size 1000x600 with 1 Axes>"
            ],
            "image/png": "[encoded data removed]"
          },
          "metadata": {}
        }
      ]
    }
  ]
}